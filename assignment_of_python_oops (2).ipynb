{
 "cells": [
  {
   "cell_type": "code",
   "execution_count": null,
   "id": "9808d85c-c0b1-4a05-805e-32834400c58e",
   "metadata": {},
   "outputs": [],
   "source": [
    "\"\"\"1.What is Object-Oriented Programming (OOP)?\n",
    "Answer:\n",
    "Object-Oriented Programming (OOP) is a programming paradigm that organizes data and behavior into reusable units called objects. OOP is based on four key principles:\n",
    "\n",
    "Encapsulation (bundling data and methods)\n",
    "Abstraction (hiding implementation details)\n",
    "Inheritance (reusing and extending existing code)\n",
    "Polymorphism (using a unified interface for different types)\"\"\"\n",
    "\n"
   ]
  },
  {
   "cell_type": "code",
   "execution_count": null,
   "id": "8a0507c2-0ee7-4936-abb5-f0ea6fffbe80",
   "metadata": {},
   "outputs": [],
   "source": [
    "\"\"\"2. What is a class in OOP?\n",
    "Answer:\n",
    "A class is a blueprint for creating objects. It defines properties (attributes)\n",
    "and behaviors (methods) that its objects will have.\"\"\""
   ]
  },
  {
   "cell_type": "code",
   "execution_count": null,
   "id": "77ead3e5-df21-4090-9692-ac2bf098452a",
   "metadata": {},
   "outputs": [],
   "source": [
    "\"\"\"3. What is an object in OOP?\n",
    "Answer:\n",
    "An object is an instance of a class that has a state \n",
    "(attributes) and behavior (methods).\"\"\""
   ]
  },
  {
   "cell_type": "code",
   "execution_count": null,
   "id": "94d768dc-d7da-4527-9aaa-f3617eb192c4",
   "metadata": {},
   "outputs": [],
   "source": [
    "\"\"\"4. What is the difference between abstraction and encapsulation?\n",
    "Answer:\n",
    "\n",
    "Abstraction hides implementation details and shows only essential features.\n",
    "Encapsulation restricts direct access to object data and allows controlled \n",
    "modification through methods.\"\"\""
   ]
  },
  {
   "cell_type": "code",
   "execution_count": null,
   "id": "e6a14867-7a87-4cc3-92ab-80484659407e",
   "metadata": {},
   "outputs": [],
   "source": [
    "\"\"\"5. What are dunder methods in Python?\n",
    "Answer:\n",
    "Dunder (double underscore) methods are special methods in Python that begin and \n",
    "end with __. They enable operator overloading and customization of behavior in\n",
    "objects.\"\"\""
   ]
  },
  {
   "cell_type": "code",
   "execution_count": null,
   "id": "8f19f2ee-4122-45c9-a3f0-bf3f5e8f3e03",
   "metadata": {},
   "outputs": [],
   "source": [
    "\"\"\"6. Explain the concept of inheritance in OOP.\n",
    "Answer:\n",
    "Inheritance allows a class to derive properties and methods from another class,\n",
    "enabling code reuse and hierarchy formation.\"\"\""
   ]
  },
  {
   "cell_type": "code",
   "execution_count": null,
   "id": "85433c64-af12-49cc-a8f4-b6ffe020d431",
   "metadata": {},
   "outputs": [],
   "source": [
    "\"\"\"7. What is polymorphism in OOP?\n",
    "Answer:\n",
    "Polymorphism allows objects of different classes to be treated as objects of a \n",
    "common superclass. Methods with the same name can have different implementations.\"\"\""
   ]
  },
  {
   "cell_type": "code",
   "execution_count": null,
   "id": "ffb4bad0-288c-44d4-8915-62f1fada8253",
   "metadata": {},
   "outputs": [],
   "source": [
    "\"\"\"8. How is encapsulation achieved in Python?\n",
    "Answer:\n",
    "Encapsulation is achieved using private attributes (__attribute) and providing\n",
    "getter/setter methods.\"\"\""
   ]
  },
  {
   "cell_type": "code",
   "execution_count": null,
   "id": "05dcafc9-30eb-4909-9a82-2758f48c504a",
   "metadata": {},
   "outputs": [],
   "source": [
    "\"\"\"9. What is a constructor in Python?\n",
    "Answer:\n",
    "A constructor is a special method (__init__) that initializes\n",
    "an object when it's created.\"\"\""
   ]
  },
  {
   "cell_type": "code",
   "execution_count": null,
   "id": "58411175-0951-4bf8-962e-8d1e11d8c7c1",
   "metadata": {},
   "outputs": [],
   "source": [
    "\"\"\"10. What are class and static methods in Python?\n",
    "Answer:\n",
    "\n",
    "Class methods (@classmethod) modify class-level attributes.\n",
    "Static methods (@staticmethod) do not depend on class or instance attributes.\"\"\""
   ]
  },
  {
   "cell_type": "code",
   "execution_count": null,
   "id": "7025071f-e8a8-4bde-8201-0ac8f9ef5225",
   "metadata": {},
   "outputs": [],
   "source": [
    "\"\"\"11. What is method overloading in Python?\n",
    "Answer:\n",
    "Method overloading allows multiple methods with the same name but different \n",
    "parameters. Python does not support traditional method overloading like Java but\n",
    "can achieve similar behavior using default arguments or *args.\"\"\""
   ]
  },
  {
   "cell_type": "code",
   "execution_count": null,
   "id": "ce9967d6-1aff-424d-915b-82b8facabe99",
   "metadata": {},
   "outputs": [],
   "source": [
    "\"\"\"12. What is method overriding in OOP?\n",
    "Answer:\n",
    "Method overriding occurs when a child class provides a specific implementation of a\n",
    "method already defined in its parent class.\"\"\""
   ]
  },
  {
   "cell_type": "code",
   "execution_count": null,
   "id": "dc6bde65-3973-4f68-8fc3-d3b4c8827a4d",
   "metadata": {},
   "outputs": [],
   "source": [
    "\"\"\"3. What is a property decorator in Python?\n",
    "Answer:\n",
    "A property decorator (@property) allows a method to be accessed like an attribute.\"\""
   ]
  },
  {
   "cell_type": "code",
   "execution_count": null,
   "id": "8cf7ec1f-e172-416b-839c-802d4fd4f212",
   "metadata": {},
   "outputs": [],
   "source": [
    "\"\"\"14. Why is polymorphism important in OOP?\n",
    "Answer:\n",
    "Polymorphism allows different classes to be treated through a common interface, \n",
    "promoting flexibility and code reuse.\"\"\""
   ]
  },
  {
   "cell_type": "code",
   "execution_count": null,
   "id": "8eb80867-94a0-431e-818f-65cfe8e5fda0",
   "metadata": {},
   "outputs": [],
   "source": [
    "\"\"\"15. What is an abstract class in Python?\n",
    "Answer:\n",
    "An abstract class contains abstract methods (methods without implementation) and\n",
    "cannot be instantiated. It is defined using the ABC module.\"\"\""
   ]
  },
  {
   "cell_type": "code",
   "execution_count": null,
   "id": "cc7f8ccc-aa77-4de2-9f67-09d705a9acc5",
   "metadata": {},
   "outputs": [],
   "source": [
    "\"\"\"16. What are the advantages of OOP?\n",
    "Answer:\n",
    "\n",
    "Code reusability through inheritance\n",
    "Encapsulation enhances data security\n",
    "Abstraction hides complexity\n",
    "Polymorphism allows flexibility\"\"\""
   ]
  },
  {
   "cell_type": "code",
   "execution_count": null,
   "id": "be81fccd-13a0-4975-87c0-c03803ac9bc2",
   "metadata": {},
   "outputs": [],
   "source": [
    "\"\"\"17. What is the difference between a class variable and an instance variable?\n",
    "Answer:\n",
    "\n",
    "Class Variable: Shared among all instances of a class.\n",
    "Instance Variable: Unique to each object.\"\"\""
   ]
  },
  {
   "cell_type": "code",
   "execution_count": null,
   "id": "bf39998d-9afa-4ba8-bc6e-7b0109591e5c",
   "metadata": {},
   "outputs": [],
   "source": [
    "\"\"\"18. What is multiple inheritance in Python?\n",
    "Answer:\n",
    "Multiple inheritance allows a class to inherit from more than one parent class.\"\"\""
   ]
  },
  {
   "cell_type": "code",
   "execution_count": null,
   "id": "2318ea32-fc7c-4f6f-b60d-9c9e1fb240ca",
   "metadata": {},
   "outputs": [],
   "source": [
    "\"\"\"19. Explain the purpose of __str__ and __repr__ methods in Python.\n",
    "Answer:\n",
    "\n",
    "__str__: Returns a human-readable string representation of an object.\n",
    "__repr__: Returns a detailed and unambiguous string for debugging.\"\"\""
   ]
  },
  {
   "cell_type": "code",
   "execution_count": null,
   "id": "2a80bb40-1e6f-49f2-a8d9-03dcc611656a",
   "metadata": {},
   "outputs": [],
   "source": [
    "\"\"\"20. What is the significance of the super() function in Python?\n",
    "Answer:\n",
    "The super() function allows a subclass to call a method from its parent class.\"\"\""
   ]
  },
  {
   "cell_type": "code",
   "execution_count": null,
   "id": "68896b80-bc7e-4a7f-bd5c-78ea579c1feb",
   "metadata": {},
   "outputs": [],
   "source": [
    "\"\"\"21. What is the significance of the __del__ method in Python?\n",
    "Answer:\n",
    "The __del__ method is a destructor that gets called when an object is deleted.\"\"\""
   ]
  },
  {
   "cell_type": "code",
   "execution_count": null,
   "id": "5c81b216-5de4-4f66-938e-8564cd64afcc",
   "metadata": {},
   "outputs": [],
   "source": [
    "\"\"\"22. What is the difference between @staticmethod and @classmethod in Python?\n",
    "Answer:\n",
    "\n",
    "@staticmethod: Does not access class or instance attributes.\n",
    "@classmethod: Works with class attributes and modifies them.\"\"\""
   ]
  },
  {
   "cell_type": "code",
   "execution_count": null,
   "id": "662ac1c4-bed1-4b23-824d-f25a45ae4524",
   "metadata": {},
   "outputs": [],
   "source": [
    "\"\"\"23. How does polymorphism work in Python with inheritance?\n",
    "Answer:\n",
    "Polymorphism allows inherited classes to override methods from the parent class.\"\"\""
   ]
  },
  {
   "cell_type": "code",
   "execution_count": null,
   "id": "4969a78c-ff11-41e8-8d02-d8c15a6db94e",
   "metadata": {},
   "outputs": [],
   "source": [
    "\"\"\"24. What is method chaining in Python OOP?\n",
    "Answer:\n",
    "Method chaining allows multiple methods to be called on the same object in a single\n",
    "statement.\"\"\""
   ]
  },
  {
   "cell_type": "code",
   "execution_count": null,
   "id": "d0533896-9bc2-43f9-8e53-0d420538a295",
   "metadata": {},
   "outputs": [],
   "source": [
    "\"\"\"25. What is the purpose of the __call__ method in Python?\n",
    "Answer:\n",
    "The __call__ method makes an instance behave like a function.\"\"\""
   ]
  },
  {
   "cell_type": "code",
   "execution_count": null,
   "id": "e032e8be-6e99-4f54-8735-858ac69d1a81",
   "metadata": {},
   "outputs": [],
   "source": [
    "#practical"
   ]
  },
  {
   "cell_type": "code",
   "execution_count": 6,
   "id": "58543bfa-2c40-479e-9060-a8379de58ad4",
   "metadata": {},
   "outputs": [
    {
     "name": "stdout",
     "output_type": "stream",
     "text": [
      "This animal makes a sound.\n",
      "Bark!\n"
     ]
    }
   ],
   "source": [
    "\"\"\"1. Create a parent class Animal with a method speak() that prints a generic\n",
    "message. Create a child class Dog that overrides the speak() method to print\n",
    "\"Bark!\".\"\"\"\n",
    "class Animal:\n",
    "    def speak(self):\n",
    "        print(\"This animal makes a sound.\")\n",
    "\n",
    "class Dog(Animal):\n",
    "    def speak(self):\n",
    "        print(\"Bark!\")\n",
    "\n",
    "# Test\n",
    "a = Animal()\n",
    "a.speak()  # Output: This animal makes a sound.\n",
    "\n",
    "d = Dog()\n",
    "d.speak()  # Output: Bark!\n"
   ]
  },
  {
   "cell_type": "code",
   "execution_count": 9,
   "id": "84153393-d46b-4c41-bae2-d94e669f87d1",
   "metadata": {},
   "outputs": [
    {
     "name": "stdout",
     "output_type": "stream",
     "text": [
      "Circle Area: 78.53981633974483\n",
      "Rectangle Area: 24\n"
     ]
    }
   ],
   "source": [
    "\"\"\"2. Write a program to create an abstract class Shape with a method area().\n",
    "Derive classes Circle and Rectangle from it and implement the area() method in \n",
    "both.\"\"\"\n",
    "from abc import ABC, abstractmethod\n",
    "import math\n",
    "\n",
    "class Shape(ABC):\n",
    "    @abstractmethod\n",
    "    def area(self):\n",
    "        pass\n",
    "\n",
    "class Circle(Shape):\n",
    "    def __init__(self, radius):\n",
    "        self.radius = radius\n",
    "\n",
    "    def area(self):\n",
    "        return math.pi * self.radius * self.radius\n",
    "\n",
    "class Rectangle(Shape):\n",
    "    def __init__(self, length, width):\n",
    "        self.length = length\n",
    "        self.width = width\n",
    "\n",
    "    def area(self):\n",
    "        return self.length * self.width\n",
    "\n",
    "# Test\n",
    "c = Circle(5)\n",
    "print(\"Circle Area:\", c.area())  # Output: 78.54\n",
    "\n",
    "r = Rectangle(4, 6)\n",
    "print(\"Rectangle Area:\", r.area())  # Output: 24\n"
   ]
  },
  {
   "cell_type": "code",
   "execution_count": 11,
   "id": "f34b418b-055e-47d4-a72c-9fb287943e07",
   "metadata": {},
   "outputs": [
    {
     "name": "stdout",
     "output_type": "stream",
     "text": [
      "Type: Sedan, Brand: Tesla, Battery: 100 kWh\n"
     ]
    }
   ],
   "source": [
    "\"\"\"3. Implement a multi-level inheritance scenario where a class Vehicle has an\n",
    "attribute type. Derive a class Car and further derive a class ElectricCar that adds\n",
    "a battery attribute.\"\"\"\n",
    "class Vehicle:\n",
    "    def __init__(self, type):\n",
    "        self.type = type\n",
    "\n",
    "class Car(Vehicle):\n",
    "    def __init__(self, type, brand):\n",
    "        super().__init__(type)\n",
    "        self.brand = brand\n",
    "\n",
    "class ElectricCar(Car):\n",
    "    def __init__(self, type, brand, battery):\n",
    "        super().__init__(type, brand)\n",
    "        self.battery = battery\n",
    "\n",
    "# Test\n",
    "e_car = ElectricCar(\"Sedan\", \"Tesla\", \"100 kWh\")\n",
    "print(f\"Type: {e_car.type}, Brand: {e_car.brand}, Battery: {e_car.battery}\")\n",
    "# Output: Type: Sedan, Brand: Tesla, Battery: 100 kWh\n"
   ]
  },
  {
   "cell_type": "code",
   "execution_count": 43,
   "id": "63b0f0e0-5c6d-46c6-9c07-8fef7e73d12e",
   "metadata": {},
   "outputs": [
    {
     "name": "stdout",
     "output_type": "stream",
     "text": [
      "Vehicle Type: Four-Wheeler\n",
      "Car Brand: Tesla\n",
      "Battery Capacity: 75 kWh\n"
     ]
    }
   ],
   "source": [
    "\"\"\"4. Implement a multi-level inheritance scenario where a class Vehicle has an \n",
    "attribute type. Derive a class Car and further derive a class ElectricCar that\n",
    "adds a battery attribute.\"\"\"\n",
    "class Vehicle:\n",
    "    def __init__(self, vehicle_type):\n",
    "        self.vehicle_type = vehicle_type\n",
    "\n",
    "    def display_type(self):\n",
    "        print(f\"Vehicle Type: {self.vehicle_type}\")\n",
    "\n",
    "class Car(Vehicle):\n",
    "    def __init__(self, vehicle_type, brand):\n",
    "        super().__init__(vehicle_type)\n",
    "        self.brand = brand\n",
    "\n",
    "    def display_brand(self):\n",
    "        print(f\"Car Brand: {self.brand}\")\n",
    "\n",
    "class ElectricCar(Car):\n",
    "    def __init__(self, vehicle_type, brand, battery_capacity):\n",
    "        super().__init__(vehicle_type, brand)\n",
    "        self.battery_capacity = battery_capacity\n",
    "\n",
    "    def display_battery(self):\n",
    "        print(f\"Battery Capacity: {self.battery_capacity} kWh\")\n",
    "\n",
    "# Test\n",
    "ev = ElectricCar(\"Four-Wheeler\", \"Tesla\", 75)\n",
    "ev.display_type()       # Output: Vehicle Type: Four-Wheeler\n",
    "ev.display_brand()      # Output: Car Brand: Tesla\n",
    "ev.display_battery()    # Output: Battery Capacity: 75 kWh\n"
   ]
  },
  {
   "cell_type": "code",
   "execution_count": 13,
   "id": "a6bd54a6-becd-4bf2-8b7c-0ecbc05bc419",
   "metadata": {},
   "outputs": [
    {
     "name": "stdout",
     "output_type": "stream",
     "text": [
      "Deposited: 500\n",
      "Withdrawn: 300\n",
      "Current Balance: 1200\n"
     ]
    }
   ],
   "source": [
    "\"\"\"5. Write a program to demonstrate encapsulation by creating a class BankAccount\n",
    "with private attributes balance and methods to deposit(), withdraw(), and\n",
    "check_balance().\"\"\"\n",
    "class BankAccount:\n",
    "    def __init__(self, balance=0):\n",
    "        self.__balance = balance  # Private attribute\n",
    "\n",
    "    def deposit(self, amount):\n",
    "        self.__balance += amount\n",
    "        print(f\"Deposited: {amount}\")\n",
    "\n",
    "    def withdraw(self, amount):\n",
    "        if amount <= self.__balance:\n",
    "            self.__balance -= amount\n",
    "            print(f\"Withdrawn: {amount}\")\n",
    "        else:\n",
    "            print(\"Insufficient balance!\")\n",
    "\n",
    "    def check_balance(self):\n",
    "        print(f\"Current Balance: {self.__balance}\")\n",
    "\n",
    "# Test\n",
    "account = BankAccount(1000)\n",
    "account.deposit(500)\n",
    "account.withdraw(300)\n",
    "account.check_balance()\n"
   ]
  },
  {
   "cell_type": "code",
   "execution_count": 15,
   "id": "aefb311d-25e4-4edf-8c48-f687e3ba162f",
   "metadata": {},
   "outputs": [
    {
     "name": "stdout",
     "output_type": "stream",
     "text": [
      "Strumming the guitar!\n",
      "Playing the piano!\n"
     ]
    }
   ],
   "source": [
    "\"\"\"6. Demonstrate runtime polymorphism using a method play() in a base class \n",
    "Instrument. Derive classes Guitar and Piano that implement their own version of \n",
    "play().\"\"\"\n",
    "class Instrument:\n",
    "    def play(self):\n",
    "        print(\"Playing an instrument.\")\n",
    "\n",
    "class Guitar(Instrument):\n",
    "    def play(self):\n",
    "        print(\"Strumming the guitar!\")\n",
    "\n",
    "class Piano(Instrument):\n",
    "    def play(self):\n",
    "        print(\"Playing the piano!\")\n",
    "\n",
    "# Test\n",
    "instruments = [Guitar(), Piano()]\n",
    "for instrument in instruments:\n",
    "    instrument.play()\n"
   ]
  },
  {
   "cell_type": "code",
   "execution_count": 17,
   "id": "76af71e9-4a05-42f5-acc7-232cf767e4ee",
   "metadata": {},
   "outputs": [
    {
     "name": "stdout",
     "output_type": "stream",
     "text": [
      "15\n",
      "5\n"
     ]
    }
   ],
   "source": [
    "\"\"\"7. Create a class MathOperations with a class method add_numbers() to add two \n",
    "numbers and a static method subtract_numbers() to subtract two numbers.\"\"\"\n",
    "class MathOperations:\n",
    "    @classmethod\n",
    "    def add_numbers(cls, a, b):\n",
    "        return a + b\n",
    "\n",
    "    @staticmethod\n",
    "    def subtract_numbers(a, b):\n",
    "        return a - b\n",
    "\n",
    "# Test\n",
    "print(MathOperations.add_numbers(10, 5))  # Output: 15\n",
    "print(MathOperations.subtract_numbers(10, 5))  # Output: 5\n"
   ]
  },
  {
   "cell_type": "code",
   "execution_count": 19,
   "id": "717423a9-62e8-4001-b0b9-8bf7fb84eb06",
   "metadata": {},
   "outputs": [
    {
     "name": "stdout",
     "output_type": "stream",
     "text": [
      "Total persons created: 2\n"
     ]
    }
   ],
   "source": [
    "\"\"\"8. Implement a class Person with a class method to count the total number of \n",
    "persons created.\"\"\"\n",
    "class Person:\n",
    "    count = 0  # Class variable\n",
    "\n",
    "    def __init__(self, name):\n",
    "        self.name = name\n",
    "        Person.count += 1\n",
    "\n",
    "    @classmethod\n",
    "    def total_persons(cls):\n",
    "        return f\"Total persons created: {cls.count}\"\n",
    "\n",
    "# Test\n",
    "p1 = Person(\"Alice\")\n",
    "p2 = Person(\"Bob\")\n",
    "print(Person.total_persons())  # Output: Total persons created: 2\n"
   ]
  },
  {
   "cell_type": "code",
   "execution_count": 21,
   "id": "dd2bcf65-77c1-4864-9fb0-f1332e629530",
   "metadata": {},
   "outputs": [
    {
     "name": "stdout",
     "output_type": "stream",
     "text": [
      "3/4\n"
     ]
    }
   ],
   "source": [
    "\"\"\"9.Write a class Fraction with attributes numerator and denominator. Override\n",
    "the __str__ method to display the fraction as \"numerator/denominator\".\"\"\"\n",
    "class Fraction:\n",
    "    def __init__(self, numerator, denominator):\n",
    "        self.numerator = numerator\n",
    "        self.denominator = denominator\n",
    "\n",
    "    def __str__(self):\n",
    "        return f\"{self.numerator}/{self.denominator}\"\n",
    "\n",
    "# Test\n",
    "frac = Fraction(3, 4)\n",
    "print(frac)  # Output: 3/4\n"
   ]
  },
  {
   "cell_type": "code",
   "execution_count": 23,
   "id": "bfcd27d2-15b8-449e-97bd-0157e95c7de0",
   "metadata": {},
   "outputs": [
    {
     "name": "stdout",
     "output_type": "stream",
     "text": [
      "Vector(6, 8)\n"
     ]
    }
   ],
   "source": [
    "\"\"\"10. Demonstrate operator overloading by creating a class Vector and overriding\n",
    "the __add__ method to add two vectors.\"\"\"\n",
    "class Vector:\n",
    "    def __init__(self, x, y):\n",
    "        self.x = x\n",
    "        self.y = y\n",
    "\n",
    "    def __add__(self, other):\n",
    "        return Vector(self.x + other.x, self.y + other.y)\n",
    "\n",
    "    def __str__(self):\n",
    "        return f\"Vector({self.x}, {self.y})\"\n",
    "\n",
    "# Test\n",
    "v1 = Vector(2, 3)\n",
    "v2 = Vector(4, 5)\n",
    "v3 = v1 + v2\n",
    "print(v3)  # Output: Vector(6, 8)\n"
   ]
  },
  {
   "cell_type": "code",
   "execution_count": 27,
   "id": "7888bdae-7b42-4d7f-8935-05ce9c5871ff",
   "metadata": {},
   "outputs": [
    {
     "name": "stdout",
     "output_type": "stream",
     "text": [
      "Hello, my name is adnan and I am 21 years old.\n"
     ]
    }
   ],
   "source": [
    "\"\"\"11. Create a class Person with attributes name and age. Add a method greet() \n",
    "that prints \"Hello, my name is {name} and I am {age} years old.\"\"\"\n",
    "class Person:\n",
    "    def __init__(self, name, age):\n",
    "        self.name = name\n",
    "        self.age = age\n",
    "\n",
    "    def greet(self):\n",
    "        print(f\"Hello, my name is {self.name} and I am {self.age} years old.\")\n",
    "\n",
    "# Test\n",
    "p = Person(\"adnan\", 21)\n",
    "p.greet()  # Output: Hello, my name is Alice and I am 25 years old.\n"
   ]
  },
  {
   "cell_type": "code",
   "execution_count": 29,
   "id": "0361b428-2631-49ca-8859-b942bccdce68",
   "metadata": {},
   "outputs": [
    {
     "name": "stdout",
     "output_type": "stream",
     "text": [
      "Average Grade: 87.5\n"
     ]
    }
   ],
   "source": [
    "\"\"\"12. Implement a class Student with attributes name and grades. Create a method \n",
    "average_grade() to compute the average of the grades.\"\"\"\n",
    "class Student:\n",
    "    def __init__(self, name, grades):\n",
    "        self.name = name\n",
    "        self.grades = grades\n",
    "\n",
    "    def average_grade(self):\n",
    "        return sum(self.grades) / len(self.grades) if self.grades else 0\n",
    "\n",
    "# Test\n",
    "s = Student(\"Bob\", [90, 80, 85, 95])\n",
    "print(f\"Average Grade: {s.average_grade()}\")  # Output: 87.5\n"
   ]
  },
  {
   "cell_type": "code",
   "execution_count": 31,
   "id": "4c2860d7-39f8-4d20-8206-c732259db555",
   "metadata": {},
   "outputs": [
    {
     "name": "stdout",
     "output_type": "stream",
     "text": [
      "Area: 50\n"
     ]
    }
   ],
   "source": [
    "\"\"\"13. Create a class Rectangle with methods set_dimensions() to set the dimensions\n",
    "and area() to calculate the area.\"\"\"\n",
    "class Rectangle:\n",
    "    def set_dimensions(self, length, width):\n",
    "        self.length = length\n",
    "        self.width = width\n",
    "\n",
    "    def area(self):\n",
    "        return self.length * self.width\n",
    "\n",
    "# Test\n",
    "rect = Rectangle()\n",
    "rect.set_dimensions(5, 10)\n",
    "print(f\"Area: {rect.area()}\")  # Output: 50\n"
   ]
  },
  {
   "cell_type": "code",
   "execution_count": 33,
   "id": "aeb87391-e251-47f0-b60d-e57f2b936c7f",
   "metadata": {},
   "outputs": [
    {
     "name": "stdout",
     "output_type": "stream",
     "text": [
      "Employee Salary: 800\n",
      "Manager Salary: 1300\n"
     ]
    }
   ],
   "source": [
    "\"\"\"14. Create a class Employee with a method calculate_salary() that computes the \n",
    "salary based on hours worked and hourly rate. Create a derived class Manager that\n",
    "adds a bonus to the salary.\"\"\"\n",
    "class Employee:\n",
    "    def __init__(self, hours_worked, hourly_rate):\n",
    "        self.hours_worked = hours_worked\n",
    "        self.hourly_rate = hourly_rate\n",
    "\n",
    "    def calculate_salary(self):\n",
    "        return self.hours_worked * self.hourly_rate\n",
    "\n",
    "class Manager(Employee):\n",
    "    def __init__(self, hours_worked, hourly_rate, bonus):\n",
    "        super().__init__(hours_worked, hourly_rate)\n",
    "        self.bonus = bonus\n",
    "\n",
    "    def calculate_salary(self):\n",
    "        return super().calculate_salary() + self.bonus\n",
    "\n",
    "# Test\n",
    "e = Employee(40, 20)\n",
    "print(f\"Employee Salary: {e.calculate_salary()}\")  # Output: 800\n",
    "\n",
    "m = Manager(40, 20, 500)\n",
    "print(f\"Manager Salary: {m.calculate_salary()}\")  # Output: 1300\n"
   ]
  },
  {
   "cell_type": "code",
   "execution_count": 35,
   "id": "cd66c4bb-edcf-4980-9c6a-e73cdfcdf339",
   "metadata": {},
   "outputs": [
    {
     "name": "stdout",
     "output_type": "stream",
     "text": [
      "Total Price: 2000\n"
     ]
    }
   ],
   "source": [
    "\"\"\"15. Create a class Product with attributes name, price, and quantity. Implement\n",
    "a method total_price() that calculates the total price of the product.\"\"\"\n",
    "class Product:\n",
    "    def __init__(self, name, price, quantity):\n",
    "        self.name = name\n",
    "        self.price = price\n",
    "        self.quantity = quantity\n",
    "\n",
    "    def total_price(self):\n",
    "        return self.price * self.quantity\n",
    "\n",
    "# Test\n",
    "p = Product(\"Laptop\", 1000, 2)\n",
    "print(f\"Total Price: {p.total_price()}\")  # Output: 2000\n"
   ]
  },
  {
   "cell_type": "code",
   "execution_count": 37,
   "id": "b9acc790-9710-4f55-a5d7-daaf34fe85e3",
   "metadata": {},
   "outputs": [
    {
     "name": "stdout",
     "output_type": "stream",
     "text": [
      "Moo\n",
      "Baa\n"
     ]
    }
   ],
   "source": [
    "\"\"\"16. Create a class Animal with an abstract method sound(). Create two derived\n",
    "classes Cow and Sheep that implement the sound() method.\"\"\"\n",
    "from abc import ABC, abstractmethod\n",
    "\n",
    "class Animal(ABC):\n",
    "    @abstractmethod\n",
    "    def sound(self):\n",
    "        pass\n",
    "\n",
    "class Cow(Animal):\n",
    "    def sound(self):\n",
    "        return \"Moo\"\n",
    "\n",
    "class Sheep(Animal):\n",
    "    def sound(self):\n",
    "        return \"Baa\"\n",
    "\n",
    "# Test\n",
    "c = Cow()\n",
    "s = Sheep()\n",
    "print(c.sound())  # Output: Moo\n",
    "print(s.sound())  # Output: Baa\n"
   ]
  },
  {
   "cell_type": "code",
   "execution_count": 39,
   "id": "95572b49-41cb-4c38-b1fa-707bd33ec8c0",
   "metadata": {},
   "outputs": [
    {
     "name": "stdout",
     "output_type": "stream",
     "text": [
      "'1984' by George Orwell, published in 1949\n"
     ]
    }
   ],
   "source": [
    "\"\"\"17. Create a class Book with attributes title, author, and year_published. Add a\n",
    "method get_book_info() that returns a formatted string with the book's details.\"\"\"\n",
    "class Book:\n",
    "    def __init__(self, title, author, year_published):\n",
    "        self.title = title\n",
    "        self.author = author\n",
    "        self.year_published = year_published\n",
    "\n",
    "    def get_book_info(self):\n",
    "        return f\"'{self.title}' by {self.author}, published in {self.year_published}\"\n",
    "\n",
    "# Test\n",
    "b = Book(\"1984\", \"George Orwell\", 1949)\n",
    "print(b.get_book_info())  # Output: '1984' by George Orwell, published in 1949\n"
   ]
  },
  {
   "cell_type": "code",
   "execution_count": 41,
   "id": "184315d2-00d1-409c-9222-d4b205bb2b2d",
   "metadata": {},
   "outputs": [
    {
     "name": "stdout",
     "output_type": "stream",
     "text": [
      "Address: 123 Luxury St., Price: 5000000, Rooms: 15\n"
     ]
    }
   ],
   "source": [
    "\"\"\"18. Create a class House with attributes address and price. Create a derived\n",
    "class Mansion that adds an attribute number_of_rooms.\"\"\"\n",
    "class House:\n",
    "    def __init__(self, address, price):\n",
    "        self.address = address\n",
    "        self.price = price\n",
    "\n",
    "class Mansion(House):\n",
    "    def __init__(self, address, price, number_of_rooms):\n",
    "        super().__init__(address, price)\n",
    "        self.number_of_rooms = number_of_rooms\n",
    "\n",
    "# Test\n",
    "m = Mansion(\"123 Luxury St.\", 5000000, 15)\n",
    "print(f\"Address: {m.address}, Price: {m.price}, Rooms: {m.number_of_rooms}\")\n",
    "# Output: Address: 123 Luxury St., Price: 5000000, Rooms: 15\n"
   ]
  },
  {
   "cell_type": "code",
   "execution_count": null,
   "id": "a4c5a26c-8ac6-4f03-9098-a4ec6b8fc8ae",
   "metadata": {},
   "outputs": [],
   "source": []
  },
  {
   "cell_type": "code",
   "execution_count": null,
   "id": "4a8e8fb1-72cb-4833-b212-35e0e2e21dd1",
   "metadata": {},
   "outputs": [],
   "source": []
  },
  {
   "cell_type": "code",
   "execution_count": null,
   "id": "8504544f-0e7f-40bc-850c-fd3fd610e330",
   "metadata": {},
   "outputs": [],
   "source": []
  },
  {
   "cell_type": "code",
   "execution_count": null,
   "id": "9a591a6a-8bfb-4ab3-ba6a-15b912756488",
   "metadata": {},
   "outputs": [],
   "source": []
  },
  {
   "cell_type": "code",
   "execution_count": null,
   "id": "a7d583e6-20bc-4420-be6f-6aaa8591ca14",
   "metadata": {},
   "outputs": [],
   "source": []
  },
  {
   "cell_type": "code",
   "execution_count": null,
   "id": "1ca4fa30-caf9-40f3-b0ab-990fa3678275",
   "metadata": {},
   "outputs": [],
   "source": []
  },
  {
   "cell_type": "code",
   "execution_count": null,
   "id": "73eb04bf-6d10-41ee-bdd4-10ce5d24e171",
   "metadata": {},
   "outputs": [],
   "source": []
  },
  {
   "cell_type": "code",
   "execution_count": null,
   "id": "9643d7a4-3355-415c-a817-8cc81427c825",
   "metadata": {},
   "outputs": [],
   "source": []
  },
  {
   "cell_type": "code",
   "execution_count": null,
   "id": "8597f9e3-af70-489a-81cc-8137e90ec2e7",
   "metadata": {},
   "outputs": [],
   "source": []
  },
  {
   "cell_type": "code",
   "execution_count": null,
   "id": "0f72d411-6805-4462-afbf-fd200afde180",
   "metadata": {},
   "outputs": [],
   "source": []
  },
  {
   "cell_type": "code",
   "execution_count": null,
   "id": "2c5ad3ee-9514-4d55-b75c-37d2e20a0281",
   "metadata": {},
   "outputs": [],
   "source": []
  },
  {
   "cell_type": "code",
   "execution_count": null,
   "id": "ea75b8a7-452b-4ba1-bcd6-f812c449159b",
   "metadata": {},
   "outputs": [],
   "source": []
  },
  {
   "cell_type": "code",
   "execution_count": null,
   "id": "c036d9fa-f692-411b-b057-d06e4c3b82bb",
   "metadata": {},
   "outputs": [],
   "source": []
  },
  {
   "cell_type": "code",
   "execution_count": null,
   "id": "dc23bd77-6891-4de3-b3d3-07848a84d12b",
   "metadata": {},
   "outputs": [],
   "source": []
  },
  {
   "cell_type": "code",
   "execution_count": null,
   "id": "4c2d4ae4-7440-42cf-aea5-2cccfc20b27f",
   "metadata": {},
   "outputs": [],
   "source": []
  },
  {
   "cell_type": "code",
   "execution_count": null,
   "id": "4ea68076-abcd-4c86-84d5-90523165b264",
   "metadata": {},
   "outputs": [],
   "source": []
  },
  {
   "cell_type": "code",
   "execution_count": null,
   "id": "d9b7b199-2659-467e-8b82-072f52af9ec2",
   "metadata": {},
   "outputs": [],
   "source": []
  },
  {
   "cell_type": "code",
   "execution_count": null,
   "id": "3b11e6fb-6887-46f3-9fe1-c6010e72a4b6",
   "metadata": {},
   "outputs": [],
   "source": []
  }
 ],
 "metadata": {
  "kernelspec": {
   "display_name": "Python [conda env:base] *",
   "language": "python",
   "name": "conda-base-py"
  },
  "language_info": {
   "codemirror_mode": {
    "name": "ipython",
    "version": 3
   },
   "file_extension": ".py",
   "mimetype": "text/x-python",
   "name": "python",
   "nbconvert_exporter": "python",
   "pygments_lexer": "ipython3",
   "version": "3.12.7"
  }
 },
 "nbformat": 4,
 "nbformat_minor": 5
}
